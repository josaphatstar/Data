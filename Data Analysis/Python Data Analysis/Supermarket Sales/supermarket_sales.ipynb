{
 "cells": [
  {
   "cell_type": "markdown",
   "id": "83bfc4fd",
   "metadata": {},
   "source": [
    " ## 1. Préparation et nettoyage"
   ]
  },
  {
   "cell_type": "code",
   "execution_count": 3,
   "id": "d452ae30",
   "metadata": {},
   "outputs": [
    {
     "data": {
      "text/html": [
       "<div>\n",
       "<style scoped>\n",
       "    .dataframe tbody tr th:only-of-type {\n",
       "        vertical-align: middle;\n",
       "    }\n",
       "\n",
       "    .dataframe tbody tr th {\n",
       "        vertical-align: top;\n",
       "    }\n",
       "\n",
       "    .dataframe thead th {\n",
       "        text-align: right;\n",
       "    }\n",
       "</style>\n",
       "<table border=\"1\" class=\"dataframe\">\n",
       "  <thead>\n",
       "    <tr style=\"text-align: right;\">\n",
       "      <th></th>\n",
       "      <th>Invoice ID</th>\n",
       "      <th>Branch</th>\n",
       "      <th>City</th>\n",
       "      <th>Customer type</th>\n",
       "      <th>Gender</th>\n",
       "      <th>Product line</th>\n",
       "      <th>Unit price</th>\n",
       "      <th>Quantity</th>\n",
       "      <th>Tax 5%</th>\n",
       "      <th>Total</th>\n",
       "      <th>Date</th>\n",
       "      <th>Time</th>\n",
       "      <th>Payment</th>\n",
       "      <th>cogs</th>\n",
       "      <th>gross margin percentage</th>\n",
       "      <th>gross income</th>\n",
       "      <th>Rating</th>\n",
       "    </tr>\n",
       "  </thead>\n",
       "  <tbody>\n",
       "    <tr>\n",
       "      <th>0</th>\n",
       "      <td>750-67-8428</td>\n",
       "      <td>A</td>\n",
       "      <td>Yangon</td>\n",
       "      <td>Member</td>\n",
       "      <td>Female</td>\n",
       "      <td>Health and beauty</td>\n",
       "      <td>74.69</td>\n",
       "      <td>7</td>\n",
       "      <td>26.1415</td>\n",
       "      <td>548.9715</td>\n",
       "      <td>1/5/2019</td>\n",
       "      <td>13:08</td>\n",
       "      <td>Ewallet</td>\n",
       "      <td>522.83</td>\n",
       "      <td>4.761905</td>\n",
       "      <td>26.1415</td>\n",
       "      <td>9.1</td>\n",
       "    </tr>\n",
       "    <tr>\n",
       "      <th>1</th>\n",
       "      <td>226-31-3081</td>\n",
       "      <td>C</td>\n",
       "      <td>Naypyitaw</td>\n",
       "      <td>Normal</td>\n",
       "      <td>Female</td>\n",
       "      <td>Electronic accessories</td>\n",
       "      <td>15.28</td>\n",
       "      <td>5</td>\n",
       "      <td>3.8200</td>\n",
       "      <td>80.2200</td>\n",
       "      <td>3/8/2019</td>\n",
       "      <td>10:29</td>\n",
       "      <td>Cash</td>\n",
       "      <td>76.40</td>\n",
       "      <td>4.761905</td>\n",
       "      <td>3.8200</td>\n",
       "      <td>9.6</td>\n",
       "    </tr>\n",
       "    <tr>\n",
       "      <th>2</th>\n",
       "      <td>631-41-3108</td>\n",
       "      <td>A</td>\n",
       "      <td>Yangon</td>\n",
       "      <td>Normal</td>\n",
       "      <td>Male</td>\n",
       "      <td>Home and lifestyle</td>\n",
       "      <td>46.33</td>\n",
       "      <td>7</td>\n",
       "      <td>16.2155</td>\n",
       "      <td>340.5255</td>\n",
       "      <td>3/3/2019</td>\n",
       "      <td>13:23</td>\n",
       "      <td>Credit card</td>\n",
       "      <td>324.31</td>\n",
       "      <td>4.761905</td>\n",
       "      <td>16.2155</td>\n",
       "      <td>7.4</td>\n",
       "    </tr>\n",
       "    <tr>\n",
       "      <th>3</th>\n",
       "      <td>123-19-1176</td>\n",
       "      <td>A</td>\n",
       "      <td>Yangon</td>\n",
       "      <td>Member</td>\n",
       "      <td>Male</td>\n",
       "      <td>Health and beauty</td>\n",
       "      <td>58.22</td>\n",
       "      <td>8</td>\n",
       "      <td>23.2880</td>\n",
       "      <td>489.0480</td>\n",
       "      <td>1/27/2019</td>\n",
       "      <td>20:33</td>\n",
       "      <td>Ewallet</td>\n",
       "      <td>465.76</td>\n",
       "      <td>4.761905</td>\n",
       "      <td>23.2880</td>\n",
       "      <td>8.4</td>\n",
       "    </tr>\n",
       "    <tr>\n",
       "      <th>4</th>\n",
       "      <td>373-73-7910</td>\n",
       "      <td>A</td>\n",
       "      <td>Yangon</td>\n",
       "      <td>Normal</td>\n",
       "      <td>Male</td>\n",
       "      <td>Sports and travel</td>\n",
       "      <td>86.31</td>\n",
       "      <td>7</td>\n",
       "      <td>30.2085</td>\n",
       "      <td>634.3785</td>\n",
       "      <td>2/8/2019</td>\n",
       "      <td>10:37</td>\n",
       "      <td>Ewallet</td>\n",
       "      <td>604.17</td>\n",
       "      <td>4.761905</td>\n",
       "      <td>30.2085</td>\n",
       "      <td>5.3</td>\n",
       "    </tr>\n",
       "  </tbody>\n",
       "</table>\n",
       "</div>"
      ],
      "text/plain": [
       "    Invoice ID Branch       City Customer type  Gender  \\\n",
       "0  750-67-8428      A     Yangon        Member  Female   \n",
       "1  226-31-3081      C  Naypyitaw        Normal  Female   \n",
       "2  631-41-3108      A     Yangon        Normal    Male   \n",
       "3  123-19-1176      A     Yangon        Member    Male   \n",
       "4  373-73-7910      A     Yangon        Normal    Male   \n",
       "\n",
       "             Product line  Unit price  Quantity   Tax 5%     Total       Date  \\\n",
       "0       Health and beauty       74.69         7  26.1415  548.9715   1/5/2019   \n",
       "1  Electronic accessories       15.28         5   3.8200   80.2200   3/8/2019   \n",
       "2      Home and lifestyle       46.33         7  16.2155  340.5255   3/3/2019   \n",
       "3       Health and beauty       58.22         8  23.2880  489.0480  1/27/2019   \n",
       "4       Sports and travel       86.31         7  30.2085  634.3785   2/8/2019   \n",
       "\n",
       "    Time      Payment    cogs  gross margin percentage  gross income  Rating  \n",
       "0  13:08      Ewallet  522.83                 4.761905       26.1415     9.1  \n",
       "1  10:29         Cash   76.40                 4.761905        3.8200     9.6  \n",
       "2  13:23  Credit card  324.31                 4.761905       16.2155     7.4  \n",
       "3  20:33      Ewallet  465.76                 4.761905       23.2880     8.4  \n",
       "4  10:37      Ewallet  604.17                 4.761905       30.2085     5.3  "
      ]
     },
     "execution_count": 3,
     "metadata": {},
     "output_type": "execute_result"
    }
   ],
   "source": [
    "import pandas as pd\n",
    "import matplotlib.pyplot as plt\n",
    "\n",
    "df = pd.read_csv('supermarket_sales.csv')\n",
    "\n",
    "df.head()"
   ]
  },
  {
   "cell_type": "code",
   "execution_count": 4,
   "id": "6cbf787b",
   "metadata": {},
   "outputs": [
    {
     "name": "stdout",
     "output_type": "stream",
     "text": [
      "Invoice ID\n",
      "Branch\n",
      "City\n",
      "Customer type\n",
      "Gender\n",
      "Product line\n",
      "Unit price\n",
      "Quantity\n",
      "Tax 5%\n",
      "Total\n",
      "Date\n",
      "Time\n",
      "Payment\n",
      "cogs\n",
      "gross margin percentage\n",
      "gross income\n",
      "Rating\n"
     ]
    }
   ],
   "source": [
    "for column in df.columns:\n",
    "\tprint(column)"
   ]
  },
  {
   "cell_type": "code",
   "execution_count": 5,
   "id": "63cd8b80",
   "metadata": {},
   "outputs": [
    {
     "name": "stdout",
     "output_type": "stream",
     "text": [
      "<class 'pandas.core.frame.DataFrame'>\n",
      "RangeIndex: 1000 entries, 0 to 999\n",
      "Data columns (total 17 columns):\n",
      " #   Column                   Non-Null Count  Dtype  \n",
      "---  ------                   --------------  -----  \n",
      " 0   Invoice ID               1000 non-null   object \n",
      " 1   Branch                   1000 non-null   object \n",
      " 2   City                     1000 non-null   object \n",
      " 3   Customer type            1000 non-null   object \n",
      " 4   Gender                   1000 non-null   object \n",
      " 5   Product line             1000 non-null   object \n",
      " 6   Unit price               1000 non-null   float64\n",
      " 7   Quantity                 1000 non-null   int64  \n",
      " 8   Tax 5%                   1000 non-null   float64\n",
      " 9   Total                    1000 non-null   float64\n",
      " 10  Date                     1000 non-null   object \n",
      " 11  Time                     1000 non-null   object \n",
      " 12  Payment                  1000 non-null   object \n",
      " 13  cogs                     1000 non-null   float64\n",
      " 14  gross margin percentage  1000 non-null   float64\n",
      " 15  gross income             1000 non-null   float64\n",
      " 16  Rating                   1000 non-null   float64\n",
      "dtypes: float64(7), int64(1), object(9)\n",
      "memory usage: 132.9+ KB\n"
     ]
    }
   ],
   "source": [
    "df.info()"
   ]
  },
  {
   "cell_type": "code",
   "execution_count": 6,
   "id": "b6192256",
   "metadata": {},
   "outputs": [
    {
     "data": {
      "text/html": [
       "<div>\n",
       "<style scoped>\n",
       "    .dataframe tbody tr th:only-of-type {\n",
       "        vertical-align: middle;\n",
       "    }\n",
       "\n",
       "    .dataframe tbody tr th {\n",
       "        vertical-align: top;\n",
       "    }\n",
       "\n",
       "    .dataframe thead th {\n",
       "        text-align: right;\n",
       "    }\n",
       "</style>\n",
       "<table border=\"1\" class=\"dataframe\">\n",
       "  <thead>\n",
       "    <tr style=\"text-align: right;\">\n",
       "      <th></th>\n",
       "      <th>Unit price</th>\n",
       "      <th>Quantity</th>\n",
       "      <th>Tax 5%</th>\n",
       "      <th>Total</th>\n",
       "      <th>cogs</th>\n",
       "      <th>gross margin percentage</th>\n",
       "      <th>gross income</th>\n",
       "      <th>Rating</th>\n",
       "    </tr>\n",
       "  </thead>\n",
       "  <tbody>\n",
       "    <tr>\n",
       "      <th>count</th>\n",
       "      <td>1000.000000</td>\n",
       "      <td>1000.000000</td>\n",
       "      <td>1000.000000</td>\n",
       "      <td>1000.000000</td>\n",
       "      <td>1000.00000</td>\n",
       "      <td>1000.000000</td>\n",
       "      <td>1000.000000</td>\n",
       "      <td>1000.00000</td>\n",
       "    </tr>\n",
       "    <tr>\n",
       "      <th>mean</th>\n",
       "      <td>55.672130</td>\n",
       "      <td>5.510000</td>\n",
       "      <td>15.379369</td>\n",
       "      <td>322.966749</td>\n",
       "      <td>307.58738</td>\n",
       "      <td>4.761905</td>\n",
       "      <td>15.379369</td>\n",
       "      <td>6.97270</td>\n",
       "    </tr>\n",
       "    <tr>\n",
       "      <th>std</th>\n",
       "      <td>26.494628</td>\n",
       "      <td>2.923431</td>\n",
       "      <td>11.708825</td>\n",
       "      <td>245.885335</td>\n",
       "      <td>234.17651</td>\n",
       "      <td>0.000000</td>\n",
       "      <td>11.708825</td>\n",
       "      <td>1.71858</td>\n",
       "    </tr>\n",
       "    <tr>\n",
       "      <th>min</th>\n",
       "      <td>10.080000</td>\n",
       "      <td>1.000000</td>\n",
       "      <td>0.508500</td>\n",
       "      <td>10.678500</td>\n",
       "      <td>10.17000</td>\n",
       "      <td>4.761905</td>\n",
       "      <td>0.508500</td>\n",
       "      <td>4.00000</td>\n",
       "    </tr>\n",
       "    <tr>\n",
       "      <th>25%</th>\n",
       "      <td>32.875000</td>\n",
       "      <td>3.000000</td>\n",
       "      <td>5.924875</td>\n",
       "      <td>124.422375</td>\n",
       "      <td>118.49750</td>\n",
       "      <td>4.761905</td>\n",
       "      <td>5.924875</td>\n",
       "      <td>5.50000</td>\n",
       "    </tr>\n",
       "    <tr>\n",
       "      <th>50%</th>\n",
       "      <td>55.230000</td>\n",
       "      <td>5.000000</td>\n",
       "      <td>12.088000</td>\n",
       "      <td>253.848000</td>\n",
       "      <td>241.76000</td>\n",
       "      <td>4.761905</td>\n",
       "      <td>12.088000</td>\n",
       "      <td>7.00000</td>\n",
       "    </tr>\n",
       "    <tr>\n",
       "      <th>75%</th>\n",
       "      <td>77.935000</td>\n",
       "      <td>8.000000</td>\n",
       "      <td>22.445250</td>\n",
       "      <td>471.350250</td>\n",
       "      <td>448.90500</td>\n",
       "      <td>4.761905</td>\n",
       "      <td>22.445250</td>\n",
       "      <td>8.50000</td>\n",
       "    </tr>\n",
       "    <tr>\n",
       "      <th>max</th>\n",
       "      <td>99.960000</td>\n",
       "      <td>10.000000</td>\n",
       "      <td>49.650000</td>\n",
       "      <td>1042.650000</td>\n",
       "      <td>993.00000</td>\n",
       "      <td>4.761905</td>\n",
       "      <td>49.650000</td>\n",
       "      <td>10.00000</td>\n",
       "    </tr>\n",
       "  </tbody>\n",
       "</table>\n",
       "</div>"
      ],
      "text/plain": [
       "        Unit price     Quantity       Tax 5%        Total        cogs  \\\n",
       "count  1000.000000  1000.000000  1000.000000  1000.000000  1000.00000   \n",
       "mean     55.672130     5.510000    15.379369   322.966749   307.58738   \n",
       "std      26.494628     2.923431    11.708825   245.885335   234.17651   \n",
       "min      10.080000     1.000000     0.508500    10.678500    10.17000   \n",
       "25%      32.875000     3.000000     5.924875   124.422375   118.49750   \n",
       "50%      55.230000     5.000000    12.088000   253.848000   241.76000   \n",
       "75%      77.935000     8.000000    22.445250   471.350250   448.90500   \n",
       "max      99.960000    10.000000    49.650000  1042.650000   993.00000   \n",
       "\n",
       "       gross margin percentage  gross income      Rating  \n",
       "count              1000.000000   1000.000000  1000.00000  \n",
       "mean                  4.761905     15.379369     6.97270  \n",
       "std                   0.000000     11.708825     1.71858  \n",
       "min                   4.761905      0.508500     4.00000  \n",
       "25%                   4.761905      5.924875     5.50000  \n",
       "50%                   4.761905     12.088000     7.00000  \n",
       "75%                   4.761905     22.445250     8.50000  \n",
       "max                   4.761905     49.650000    10.00000  "
      ]
     },
     "execution_count": 6,
     "metadata": {},
     "output_type": "execute_result"
    }
   ],
   "source": [
    "df.describe()"
   ]
  },
  {
   "cell_type": "code",
   "execution_count": 7,
   "id": "3969cc7e",
   "metadata": {},
   "outputs": [
    {
     "data": {
      "text/plain": [
       "Invoice ID                  object\n",
       "Branch                      object\n",
       "City                        object\n",
       "Customer type               object\n",
       "Gender                      object\n",
       "Product line                object\n",
       "Unit price                 float64\n",
       "Quantity                     int64\n",
       "Tax 5%                     float64\n",
       "Total                      float64\n",
       "Date                        object\n",
       "Time                        object\n",
       "Payment                     object\n",
       "cogs                       float64\n",
       "gross margin percentage    float64\n",
       "gross income               float64\n",
       "Rating                     float64\n",
       "dtype: object"
      ]
     },
     "execution_count": 7,
     "metadata": {},
     "output_type": "execute_result"
    }
   ],
   "source": [
    "df.dtypes"
   ]
  },
  {
   "cell_type": "code",
   "execution_count": 8,
   "id": "bba9b388",
   "metadata": {},
   "outputs": [
    {
     "name": "stderr",
     "output_type": "stream",
     "text": [
      "C:\\Users\\HP\\AppData\\Local\\Temp\\ipykernel_17564\\4004090575.py:2: UserWarning: Could not infer format, so each element will be parsed individually, falling back to `dateutil`. To ensure parsing is consistent and as-expected, please specify a format.\n",
      "  df.Time = pd.to_datetime(df.Time)\n"
     ]
    },
    {
     "data": {
      "text/plain": [
       "Invoice ID                         object\n",
       "Branch                           category\n",
       "City                             category\n",
       "Customer type                    category\n",
       "Gender                           category\n",
       "Product line                     category\n",
       "Unit price                        float64\n",
       "Quantity                            int64\n",
       "Tax 5%                            float64\n",
       "Total                             float64\n",
       "Date                       datetime64[ns]\n",
       "Time                                int32\n",
       "Payment                          category\n",
       "cogs                              float64\n",
       "gross margin percentage           float64\n",
       "gross income                      float64\n",
       "Rating                            float64\n",
       "dtype: object"
      ]
     },
     "execution_count": 8,
     "metadata": {},
     "output_type": "execute_result"
    }
   ],
   "source": [
    "df.Date = pd.to_datetime(df.Date)\n",
    "df.Time = pd.to_datetime(df.Time)\n",
    "df.Time = df.Time.dt.hour\n",
    "\n",
    "columns = ['Branch', 'City', 'Customer type', 'Gender', 'Product line', 'Payment']\n",
    "\n",
    "for column in columns:\n",
    "\tdf[column] = df[column].astype('category')\n",
    "\n",
    "df.dtypes"
   ]
  },
  {
   "cell_type": "code",
   "execution_count": 9,
   "id": "11c105d0",
   "metadata": {},
   "outputs": [],
   "source": [
    "df['day'] = df.Date.dt.day\n",
    "df['month'] = df.Date.dt.month\n",
    "df['year'] = df.Date.dt.year"
   ]
  },
  {
   "cell_type": "code",
   "execution_count": 10,
   "id": "954bd12d",
   "metadata": {},
   "outputs": [
    {
     "data": {
      "text/html": [
       "<div>\n",
       "<style scoped>\n",
       "    .dataframe tbody tr th:only-of-type {\n",
       "        vertical-align: middle;\n",
       "    }\n",
       "\n",
       "    .dataframe tbody tr th {\n",
       "        vertical-align: top;\n",
       "    }\n",
       "\n",
       "    .dataframe thead th {\n",
       "        text-align: right;\n",
       "    }\n",
       "</style>\n",
       "<table border=\"1\" class=\"dataframe\">\n",
       "  <thead>\n",
       "    <tr style=\"text-align: right;\">\n",
       "      <th></th>\n",
       "      <th>Invoice ID</th>\n",
       "      <th>Branch</th>\n",
       "      <th>City</th>\n",
       "      <th>Customer type</th>\n",
       "      <th>Gender</th>\n",
       "      <th>Product line</th>\n",
       "      <th>Unit price</th>\n",
       "      <th>Quantity</th>\n",
       "      <th>Tax 5%</th>\n",
       "      <th>Total</th>\n",
       "      <th>Date</th>\n",
       "      <th>Time</th>\n",
       "      <th>Payment</th>\n",
       "      <th>cogs</th>\n",
       "      <th>gross margin percentage</th>\n",
       "      <th>gross income</th>\n",
       "      <th>Rating</th>\n",
       "      <th>day</th>\n",
       "      <th>month</th>\n",
       "      <th>year</th>\n",
       "    </tr>\n",
       "  </thead>\n",
       "  <tbody>\n",
       "    <tr>\n",
       "      <th>0</th>\n",
       "      <td>750-67-8428</td>\n",
       "      <td>A</td>\n",
       "      <td>Yangon</td>\n",
       "      <td>Member</td>\n",
       "      <td>Female</td>\n",
       "      <td>Health and beauty</td>\n",
       "      <td>74.69</td>\n",
       "      <td>7</td>\n",
       "      <td>26.1415</td>\n",
       "      <td>548.9715</td>\n",
       "      <td>2019-01-05</td>\n",
       "      <td>13</td>\n",
       "      <td>Ewallet</td>\n",
       "      <td>522.83</td>\n",
       "      <td>4.761905</td>\n",
       "      <td>26.1415</td>\n",
       "      <td>9.1</td>\n",
       "      <td>5</td>\n",
       "      <td>1</td>\n",
       "      <td>2019</td>\n",
       "    </tr>\n",
       "    <tr>\n",
       "      <th>1</th>\n",
       "      <td>226-31-3081</td>\n",
       "      <td>C</td>\n",
       "      <td>Naypyitaw</td>\n",
       "      <td>Normal</td>\n",
       "      <td>Female</td>\n",
       "      <td>Electronic accessories</td>\n",
       "      <td>15.28</td>\n",
       "      <td>5</td>\n",
       "      <td>3.8200</td>\n",
       "      <td>80.2200</td>\n",
       "      <td>2019-03-08</td>\n",
       "      <td>10</td>\n",
       "      <td>Cash</td>\n",
       "      <td>76.40</td>\n",
       "      <td>4.761905</td>\n",
       "      <td>3.8200</td>\n",
       "      <td>9.6</td>\n",
       "      <td>8</td>\n",
       "      <td>3</td>\n",
       "      <td>2019</td>\n",
       "    </tr>\n",
       "    <tr>\n",
       "      <th>2</th>\n",
       "      <td>631-41-3108</td>\n",
       "      <td>A</td>\n",
       "      <td>Yangon</td>\n",
       "      <td>Normal</td>\n",
       "      <td>Male</td>\n",
       "      <td>Home and lifestyle</td>\n",
       "      <td>46.33</td>\n",
       "      <td>7</td>\n",
       "      <td>16.2155</td>\n",
       "      <td>340.5255</td>\n",
       "      <td>2019-03-03</td>\n",
       "      <td>13</td>\n",
       "      <td>Credit card</td>\n",
       "      <td>324.31</td>\n",
       "      <td>4.761905</td>\n",
       "      <td>16.2155</td>\n",
       "      <td>7.4</td>\n",
       "      <td>3</td>\n",
       "      <td>3</td>\n",
       "      <td>2019</td>\n",
       "    </tr>\n",
       "    <tr>\n",
       "      <th>3</th>\n",
       "      <td>123-19-1176</td>\n",
       "      <td>A</td>\n",
       "      <td>Yangon</td>\n",
       "      <td>Member</td>\n",
       "      <td>Male</td>\n",
       "      <td>Health and beauty</td>\n",
       "      <td>58.22</td>\n",
       "      <td>8</td>\n",
       "      <td>23.2880</td>\n",
       "      <td>489.0480</td>\n",
       "      <td>2019-01-27</td>\n",
       "      <td>20</td>\n",
       "      <td>Ewallet</td>\n",
       "      <td>465.76</td>\n",
       "      <td>4.761905</td>\n",
       "      <td>23.2880</td>\n",
       "      <td>8.4</td>\n",
       "      <td>27</td>\n",
       "      <td>1</td>\n",
       "      <td>2019</td>\n",
       "    </tr>\n",
       "    <tr>\n",
       "      <th>4</th>\n",
       "      <td>373-73-7910</td>\n",
       "      <td>A</td>\n",
       "      <td>Yangon</td>\n",
       "      <td>Normal</td>\n",
       "      <td>Male</td>\n",
       "      <td>Sports and travel</td>\n",
       "      <td>86.31</td>\n",
       "      <td>7</td>\n",
       "      <td>30.2085</td>\n",
       "      <td>634.3785</td>\n",
       "      <td>2019-02-08</td>\n",
       "      <td>10</td>\n",
       "      <td>Ewallet</td>\n",
       "      <td>604.17</td>\n",
       "      <td>4.761905</td>\n",
       "      <td>30.2085</td>\n",
       "      <td>5.3</td>\n",
       "      <td>8</td>\n",
       "      <td>2</td>\n",
       "      <td>2019</td>\n",
       "    </tr>\n",
       "    <tr>\n",
       "      <th>5</th>\n",
       "      <td>699-14-3026</td>\n",
       "      <td>C</td>\n",
       "      <td>Naypyitaw</td>\n",
       "      <td>Normal</td>\n",
       "      <td>Male</td>\n",
       "      <td>Electronic accessories</td>\n",
       "      <td>85.39</td>\n",
       "      <td>7</td>\n",
       "      <td>29.8865</td>\n",
       "      <td>627.6165</td>\n",
       "      <td>2019-03-25</td>\n",
       "      <td>18</td>\n",
       "      <td>Ewallet</td>\n",
       "      <td>597.73</td>\n",
       "      <td>4.761905</td>\n",
       "      <td>29.8865</td>\n",
       "      <td>4.1</td>\n",
       "      <td>25</td>\n",
       "      <td>3</td>\n",
       "      <td>2019</td>\n",
       "    </tr>\n",
       "    <tr>\n",
       "      <th>6</th>\n",
       "      <td>355-53-5943</td>\n",
       "      <td>A</td>\n",
       "      <td>Yangon</td>\n",
       "      <td>Member</td>\n",
       "      <td>Female</td>\n",
       "      <td>Electronic accessories</td>\n",
       "      <td>68.84</td>\n",
       "      <td>6</td>\n",
       "      <td>20.6520</td>\n",
       "      <td>433.6920</td>\n",
       "      <td>2019-02-25</td>\n",
       "      <td>14</td>\n",
       "      <td>Ewallet</td>\n",
       "      <td>413.04</td>\n",
       "      <td>4.761905</td>\n",
       "      <td>20.6520</td>\n",
       "      <td>5.8</td>\n",
       "      <td>25</td>\n",
       "      <td>2</td>\n",
       "      <td>2019</td>\n",
       "    </tr>\n",
       "    <tr>\n",
       "      <th>7</th>\n",
       "      <td>315-22-5665</td>\n",
       "      <td>C</td>\n",
       "      <td>Naypyitaw</td>\n",
       "      <td>Normal</td>\n",
       "      <td>Female</td>\n",
       "      <td>Home and lifestyle</td>\n",
       "      <td>73.56</td>\n",
       "      <td>10</td>\n",
       "      <td>36.7800</td>\n",
       "      <td>772.3800</td>\n",
       "      <td>2019-02-24</td>\n",
       "      <td>11</td>\n",
       "      <td>Ewallet</td>\n",
       "      <td>735.60</td>\n",
       "      <td>4.761905</td>\n",
       "      <td>36.7800</td>\n",
       "      <td>8.0</td>\n",
       "      <td>24</td>\n",
       "      <td>2</td>\n",
       "      <td>2019</td>\n",
       "    </tr>\n",
       "    <tr>\n",
       "      <th>8</th>\n",
       "      <td>665-32-9167</td>\n",
       "      <td>A</td>\n",
       "      <td>Yangon</td>\n",
       "      <td>Member</td>\n",
       "      <td>Female</td>\n",
       "      <td>Health and beauty</td>\n",
       "      <td>36.26</td>\n",
       "      <td>2</td>\n",
       "      <td>3.6260</td>\n",
       "      <td>76.1460</td>\n",
       "      <td>2019-01-10</td>\n",
       "      <td>17</td>\n",
       "      <td>Credit card</td>\n",
       "      <td>72.52</td>\n",
       "      <td>4.761905</td>\n",
       "      <td>3.6260</td>\n",
       "      <td>7.2</td>\n",
       "      <td>10</td>\n",
       "      <td>1</td>\n",
       "      <td>2019</td>\n",
       "    </tr>\n",
       "    <tr>\n",
       "      <th>9</th>\n",
       "      <td>692-92-5582</td>\n",
       "      <td>B</td>\n",
       "      <td>Mandalay</td>\n",
       "      <td>Member</td>\n",
       "      <td>Female</td>\n",
       "      <td>Food and beverages</td>\n",
       "      <td>54.84</td>\n",
       "      <td>3</td>\n",
       "      <td>8.2260</td>\n",
       "      <td>172.7460</td>\n",
       "      <td>2019-02-20</td>\n",
       "      <td>13</td>\n",
       "      <td>Credit card</td>\n",
       "      <td>164.52</td>\n",
       "      <td>4.761905</td>\n",
       "      <td>8.2260</td>\n",
       "      <td>5.9</td>\n",
       "      <td>20</td>\n",
       "      <td>2</td>\n",
       "      <td>2019</td>\n",
       "    </tr>\n",
       "    <tr>\n",
       "      <th>10</th>\n",
       "      <td>351-62-0822</td>\n",
       "      <td>B</td>\n",
       "      <td>Mandalay</td>\n",
       "      <td>Member</td>\n",
       "      <td>Female</td>\n",
       "      <td>Fashion accessories</td>\n",
       "      <td>14.48</td>\n",
       "      <td>4</td>\n",
       "      <td>2.8960</td>\n",
       "      <td>60.8160</td>\n",
       "      <td>2019-02-06</td>\n",
       "      <td>18</td>\n",
       "      <td>Ewallet</td>\n",
       "      <td>57.92</td>\n",
       "      <td>4.761905</td>\n",
       "      <td>2.8960</td>\n",
       "      <td>4.5</td>\n",
       "      <td>6</td>\n",
       "      <td>2</td>\n",
       "      <td>2019</td>\n",
       "    </tr>\n",
       "    <tr>\n",
       "      <th>11</th>\n",
       "      <td>529-56-3974</td>\n",
       "      <td>B</td>\n",
       "      <td>Mandalay</td>\n",
       "      <td>Member</td>\n",
       "      <td>Male</td>\n",
       "      <td>Electronic accessories</td>\n",
       "      <td>25.51</td>\n",
       "      <td>4</td>\n",
       "      <td>5.1020</td>\n",
       "      <td>107.1420</td>\n",
       "      <td>2019-03-09</td>\n",
       "      <td>17</td>\n",
       "      <td>Cash</td>\n",
       "      <td>102.04</td>\n",
       "      <td>4.761905</td>\n",
       "      <td>5.1020</td>\n",
       "      <td>6.8</td>\n",
       "      <td>9</td>\n",
       "      <td>3</td>\n",
       "      <td>2019</td>\n",
       "    </tr>\n",
       "    <tr>\n",
       "      <th>12</th>\n",
       "      <td>365-64-0515</td>\n",
       "      <td>A</td>\n",
       "      <td>Yangon</td>\n",
       "      <td>Normal</td>\n",
       "      <td>Female</td>\n",
       "      <td>Electronic accessories</td>\n",
       "      <td>46.95</td>\n",
       "      <td>5</td>\n",
       "      <td>11.7375</td>\n",
       "      <td>246.4875</td>\n",
       "      <td>2019-02-12</td>\n",
       "      <td>10</td>\n",
       "      <td>Ewallet</td>\n",
       "      <td>234.75</td>\n",
       "      <td>4.761905</td>\n",
       "      <td>11.7375</td>\n",
       "      <td>7.1</td>\n",
       "      <td>12</td>\n",
       "      <td>2</td>\n",
       "      <td>2019</td>\n",
       "    </tr>\n",
       "    <tr>\n",
       "      <th>13</th>\n",
       "      <td>252-56-2699</td>\n",
       "      <td>A</td>\n",
       "      <td>Yangon</td>\n",
       "      <td>Normal</td>\n",
       "      <td>Male</td>\n",
       "      <td>Food and beverages</td>\n",
       "      <td>43.19</td>\n",
       "      <td>10</td>\n",
       "      <td>21.5950</td>\n",
       "      <td>453.4950</td>\n",
       "      <td>2019-02-07</td>\n",
       "      <td>16</td>\n",
       "      <td>Ewallet</td>\n",
       "      <td>431.90</td>\n",
       "      <td>4.761905</td>\n",
       "      <td>21.5950</td>\n",
       "      <td>8.2</td>\n",
       "      <td>7</td>\n",
       "      <td>2</td>\n",
       "      <td>2019</td>\n",
       "    </tr>\n",
       "    <tr>\n",
       "      <th>14</th>\n",
       "      <td>829-34-3910</td>\n",
       "      <td>A</td>\n",
       "      <td>Yangon</td>\n",
       "      <td>Normal</td>\n",
       "      <td>Female</td>\n",
       "      <td>Health and beauty</td>\n",
       "      <td>71.38</td>\n",
       "      <td>10</td>\n",
       "      <td>35.6900</td>\n",
       "      <td>749.4900</td>\n",
       "      <td>2019-03-29</td>\n",
       "      <td>19</td>\n",
       "      <td>Cash</td>\n",
       "      <td>713.80</td>\n",
       "      <td>4.761905</td>\n",
       "      <td>35.6900</td>\n",
       "      <td>5.7</td>\n",
       "      <td>29</td>\n",
       "      <td>3</td>\n",
       "      <td>2019</td>\n",
       "    </tr>\n",
       "  </tbody>\n",
       "</table>\n",
       "</div>"
      ],
      "text/plain": [
       "     Invoice ID Branch       City Customer type  Gender  \\\n",
       "0   750-67-8428      A     Yangon        Member  Female   \n",
       "1   226-31-3081      C  Naypyitaw        Normal  Female   \n",
       "2   631-41-3108      A     Yangon        Normal    Male   \n",
       "3   123-19-1176      A     Yangon        Member    Male   \n",
       "4   373-73-7910      A     Yangon        Normal    Male   \n",
       "5   699-14-3026      C  Naypyitaw        Normal    Male   \n",
       "6   355-53-5943      A     Yangon        Member  Female   \n",
       "7   315-22-5665      C  Naypyitaw        Normal  Female   \n",
       "8   665-32-9167      A     Yangon        Member  Female   \n",
       "9   692-92-5582      B   Mandalay        Member  Female   \n",
       "10  351-62-0822      B   Mandalay        Member  Female   \n",
       "11  529-56-3974      B   Mandalay        Member    Male   \n",
       "12  365-64-0515      A     Yangon        Normal  Female   \n",
       "13  252-56-2699      A     Yangon        Normal    Male   \n",
       "14  829-34-3910      A     Yangon        Normal  Female   \n",
       "\n",
       "              Product line  Unit price  Quantity   Tax 5%     Total  \\\n",
       "0        Health and beauty       74.69         7  26.1415  548.9715   \n",
       "1   Electronic accessories       15.28         5   3.8200   80.2200   \n",
       "2       Home and lifestyle       46.33         7  16.2155  340.5255   \n",
       "3        Health and beauty       58.22         8  23.2880  489.0480   \n",
       "4        Sports and travel       86.31         7  30.2085  634.3785   \n",
       "5   Electronic accessories       85.39         7  29.8865  627.6165   \n",
       "6   Electronic accessories       68.84         6  20.6520  433.6920   \n",
       "7       Home and lifestyle       73.56        10  36.7800  772.3800   \n",
       "8        Health and beauty       36.26         2   3.6260   76.1460   \n",
       "9       Food and beverages       54.84         3   8.2260  172.7460   \n",
       "10     Fashion accessories       14.48         4   2.8960   60.8160   \n",
       "11  Electronic accessories       25.51         4   5.1020  107.1420   \n",
       "12  Electronic accessories       46.95         5  11.7375  246.4875   \n",
       "13      Food and beverages       43.19        10  21.5950  453.4950   \n",
       "14       Health and beauty       71.38        10  35.6900  749.4900   \n",
       "\n",
       "         Date  Time      Payment    cogs  gross margin percentage  \\\n",
       "0  2019-01-05    13      Ewallet  522.83                 4.761905   \n",
       "1  2019-03-08    10         Cash   76.40                 4.761905   \n",
       "2  2019-03-03    13  Credit card  324.31                 4.761905   \n",
       "3  2019-01-27    20      Ewallet  465.76                 4.761905   \n",
       "4  2019-02-08    10      Ewallet  604.17                 4.761905   \n",
       "5  2019-03-25    18      Ewallet  597.73                 4.761905   \n",
       "6  2019-02-25    14      Ewallet  413.04                 4.761905   \n",
       "7  2019-02-24    11      Ewallet  735.60                 4.761905   \n",
       "8  2019-01-10    17  Credit card   72.52                 4.761905   \n",
       "9  2019-02-20    13  Credit card  164.52                 4.761905   \n",
       "10 2019-02-06    18      Ewallet   57.92                 4.761905   \n",
       "11 2019-03-09    17         Cash  102.04                 4.761905   \n",
       "12 2019-02-12    10      Ewallet  234.75                 4.761905   \n",
       "13 2019-02-07    16      Ewallet  431.90                 4.761905   \n",
       "14 2019-03-29    19         Cash  713.80                 4.761905   \n",
       "\n",
       "    gross income  Rating  day  month  year  \n",
       "0        26.1415     9.1    5      1  2019  \n",
       "1         3.8200     9.6    8      3  2019  \n",
       "2        16.2155     7.4    3      3  2019  \n",
       "3        23.2880     8.4   27      1  2019  \n",
       "4        30.2085     5.3    8      2  2019  \n",
       "5        29.8865     4.1   25      3  2019  \n",
       "6        20.6520     5.8   25      2  2019  \n",
       "7        36.7800     8.0   24      2  2019  \n",
       "8         3.6260     7.2   10      1  2019  \n",
       "9         8.2260     5.9   20      2  2019  \n",
       "10        2.8960     4.5    6      2  2019  \n",
       "11        5.1020     6.8    9      3  2019  \n",
       "12       11.7375     7.1   12      2  2019  \n",
       "13       21.5950     8.2    7      2  2019  \n",
       "14       35.6900     5.7   29      3  2019  "
      ]
     },
     "execution_count": 10,
     "metadata": {},
     "output_type": "execute_result"
    }
   ],
   "source": [
    "df.head(15)"
   ]
  },
  {
   "cell_type": "markdown",
   "id": "fde4fd37",
   "metadata": {},
   "source": [
    "## 2. Analyse Exploratoire Univariée"
   ]
  },
  {
   "cell_type": "code",
   "execution_count": 11,
   "id": "f3cb4855",
   "metadata": {},
   "outputs": [
    {
     "data": {
      "image/png": "[encoded data removed]",
      "text/plain": [
       "<Figure size 1200x500 with 1 Axes>"
      ]
     },
     "metadata": {},
     "output_type": "display_data"
    }
   ],
   "source": [
    "#Distribution des ventes\n",
    "\n",
    "plt.figure(figsize=(12, 5))\n",
    "\n",
    "plt.hist(df['Total'])\n",
    "\n",
    "plt.title('Distribution des ventes')\n",
    "plt.xlabel('Total de ventes')\n",
    "plt.ylabel('Fréquence')\n",
    "\n",
    "plt.tight_layout()\n",
    "\n",
    "plt.show()"
   ]
  },
  {
   "cell_type": "code",
   "execution_count": 12,
   "metadata": {},
   "outputs": [
    {
     "name": "stdout",
     "output_type": "stream",
     "text": [
      "le chiffre d'affaire total du super marché est : 322966.749\n"
     ]
    }
   ],
   "source": [
    "# Chiffre d'affaire total du supermarche\n",
    "\n",
    "CA = df.Total.sum()\n",
    "\n",
    "print(f'le chiffre d\\'affaire total du super marché est : {CA}')"
   ]
  },
  {
   "cell_type": "code",
   "execution_count": 13,
   "id": "9c011a0a",
   "metadata": {},
   "outputs": [
    {
     "name": "stdout",
     "output_type": "stream",
     "text": [
      "Ventes realises par ville : \n",
      "\n",
      " City\n",
      "Yangon       340\n",
      "Mandalay     332\n",
      "Naypyitaw    328\n",
      "Name: count, dtype: int64\n"
     ]
    }
   ],
   "source": [
    "# Ventes realisées par ville\n",
    "\n",
    "ventes_par_ville = df.City.value_counts()\n",
    "\n",
    "print(f'Ventes realises par ville : \\n\\n {ventes_par_ville}')"
   ]
  },
  {
   "cell_type": "code",
   "execution_count": 14,
   "id": "77a82747",
   "metadata": {},
   "outputs": [
    {
     "name": "stdout",
     "output_type": "stream",
     "text": [
      "Les 3 produits les plus vendus en volume : \n",
      "\n",
      " Product line\n",
      "Fashion accessories       178\n",
      "Food and beverages        174\n",
      "Electronic accessories    170\n",
      "Name: count, dtype: int64\n",
      "\n",
      "\n",
      " Les 3 produits les plus vendus en valeur :\n",
      "\n",
      " Product line\n",
      "Food and beverages        56144.8440\n",
      "Sports and travel         55122.8265\n",
      "Electronic accessories    54337.5315\n",
      "Name: Total, dtype: float64\n"
     ]
    },
    {
     "name": "stderr",
     "output_type": "stream",
     "text": [
      "C:\\Users\\HP\\AppData\\Local\\Temp\\ipykernel_17564\\4231206543.py:7: FutureWarning: The default of observed=False is deprecated and will be changed to True in a future version of pandas. Pass observed=False to retain current behavior or observed=True to adopt the future default and silence this warning.\n",
      "  top_valeur_ventes = df.groupby('Product line')['Total'].sum()\n"
     ]
    }
   ],
   "source": [
    "# Les 3 produits les plus vendus en volume\n",
    "top_volume_ventes = df['Product line'].value_counts().head(3)\n",
    "print(f'Les 3 produits les plus vendus en volume : \\n\\n {top_volume_ventes}')\n",
    "\n",
    "\n",
    "# Les 3 produits les plus vendus en valeur\n",
    "top_valeur_ventes = df.groupby('Product line')['Total'].sum()\n",
    "top_valeur_ventes.sort_values(ascending = False, inplace = True)\n",
    "print(f'\\n\\n Les 3 produits les plus vendus en valeur :\\n\\n {top_valeur_ventes.head(3)}')\n"
   ]
  },
  {
   "cell_type": "code",
   "execution_count": 15,
   "id": "b03c82d3",
   "metadata": {},
   "outputs": [
    {
     "name": "stdout",
     "output_type": "stream",
     "text": [
      "L'heure la plus active(avec le plus de ventes) : \n",
      "\n",
      "    Time  count\n",
      "0    19    113\n"
     ]
    }
   ],
   "source": [
    "# L'heure la plus active(avec le plus de ventes)\n",
    "most_actve_hour = df['Time'].value_counts().sort_values(ascending = False).head(1).reset_index()\n",
    "print(f\"L'heure la plus active(avec le plus de ventes) : \\n\\n {most_actve_hour}\")"
   ]
  },
  {
   "cell_type": "code",
   "execution_count": 16,
   "id": "c18c025c",
   "metadata": {},
   "outputs": [
    {
     "name": "stdout",
     "output_type": "stream",
     "text": [
      "La moyenne du total des ventes par genre : \n",
      "\n",
      " Product line\n",
      "Home and lifestyle        336.64\n",
      "Sports and travel         332.07\n",
      "Health and beauty         323.64\n",
      "Food and beverages        322.67\n",
      "Electronic accessories    319.63\n",
      "Fashion accessories       305.09\n",
      "Name: Total, dtype: float64\n"
     ]
    },
    {
     "name": "stderr",
     "output_type": "stream",
     "text": [
      "C:\\Users\\HP\\AppData\\Local\\Temp\\ipykernel_17564\\1545818429.py:2: FutureWarning: The default of observed=False is deprecated and will be changed to True in a future version of pandas. Pass observed=False to retain current behavior or observed=True to adopt the future default and silence this warning.\n",
      "  ventes_par_genre = df.groupby('Product line')['Total'].mean().sort_values(ascending = False)\n"
     ]
    }
   ],
   "source": [
    "# La moyenne du total des ventes par genre\n",
    "ventes_par_genre = df.groupby('Product line')['Total'].mean().sort_values(ascending = False)\n",
    "print(f\"La moyenne du total des ventes par genre : \\n\\n {ventes_par_genre.round(2)}\")"
   ]
  },
  {
   "cell_type": "code",
   "execution_count": 17,
   "id": "d21b316d",
   "metadata": {},
   "outputs": [
    {
     "name": "stdout",
     "output_type": "stream",
     "text": [
      "Les modes de paiemaent les plus frequents : \n",
      "\n",
      " Payment\n",
      "Ewallet        345\n",
      "Cash           344\n",
      "Credit card    311\n",
      "Name: count, dtype: int64\n"
     ]
    }
   ],
   "source": [
    "# Les modes de paiemaent les plus frequents\n",
    "most_use_payment = df['Payment'].value_counts()\n",
    "print(f\"Les modes de paiemaent les plus frequents : \\n\\n {most_use_payment}\")"
   ]
  },
  {
   "cell_type": "markdown",
   "id": "0022c0da",
   "metadata": {},
   "source": [
    "## 3. Analyse Temporelle"
   ]
  },
  {
   "cell_type": "code",
   "execution_count": 18,
   "id": "ead24c09",
   "metadata": {},
   "outputs": [
    {
     "name": "stdout",
     "output_type": "stream",
     "text": [
      "Les heures d'affluence : \n",
      "\n",
      "     Time  count\n",
      "0     19    113\n",
      "1     13    103\n",
      "2     15    102\n",
      "3     10    101\n",
      "4     18     93\n",
      "5     11     90\n",
      "6     12     89\n",
      "7     14     83\n",
      "8     16     77\n",
      "9     20     75\n",
      "10    17     74\n"
     ]
    }
   ],
   "source": [
    "# Les heures d’affluence\n",
    "heures_affluence = df.Time.value_counts()\n",
    "\n",
    "print(f\"Les heures d'affluence : \\n\\n {heures_affluence.reset_index()}\")\n"
   ]
  },
  {
   "cell_type": "code",
   "execution_count": 19,
   "id": "701f2cc9",
   "metadata": {},
   "outputs": [
    {
     "name": "stdout",
     "output_type": "stream",
     "text": [
      "Les journées ou périodes de vente les plus importantes : \n",
      "\n",
      "  day\n",
      "15    44\n",
      "25    42\n",
      "8     41\n",
      "5     41\n",
      "19    41\n",
      "2     40\n",
      "14    39\n",
      "26    39\n",
      "27    38\n",
      "7     38\n",
      "9     37\n",
      "3     36\n",
      "23    36\n",
      "20    35\n",
      "6     33\n",
      "24    33\n",
      "10    32\n",
      "12    31\n",
      "28    30\n",
      "17    30\n",
      "4     29\n",
      "1     28\n",
      "22    28\n",
      "13    28\n",
      "11    27\n",
      "16    27\n",
      "18    23\n",
      "29    20\n",
      "21    20\n",
      "30    20\n",
      "31    14\n",
      "Name: count, dtype: int64\n"
     ]
    }
   ],
   "source": [
    "# Les journées ou périodes de vente les plus importantes\n",
    "jour_ventes_importantes = df.day.value_counts().sort_values(ascending=False)\n",
    "\n",
    "print(f\"Les journées ou périodes de vente les plus importantes : \\n\\n  {jour_ventes_importantes}\")"
   ]
  },
  {
   "cell_type": "code",
   "execution_count": 20,
   "id": "0886490f",
   "metadata": {},
   "outputs": [
    {
     "name": "stdout",
     "output_type": "stream",
     "text": [
      "Tendances mensuelles : \n",
      "\n",
      "  month\n",
      "1    352\n",
      "3    345\n",
      "2    303\n",
      "Name: count, dtype: int64\n"
     ]
    }
   ],
   "source": [
    "# Tendances mensuelles\n",
    "\n",
    "tendances_mensuelles = df['month'].value_counts()\n",
    "\n",
    "print(f\"Tendances mensuelles : \\n\\n  {tendances_mensuelles}\")"
   ]
  },
  {
   "cell_type": "markdown",
   "id": "81131421",
   "metadata": {},
   "source": [
    "## 4. Analyse par client / produit"
   ]
  },
  {
   "cell_type": "markdown",
   "id": "fae69de8",
   "metadata": {},
   "source": [
    "### Comportements d'achat selon le genre"
   ]
  },
  {
   "cell_type": "code",
   "execution_count": 21,
   "id": "0931fc4e",
   "metadata": {},
   "outputs": [
    {
     "name": "stdout",
     "output_type": "stream",
     "text": [
      "Dépenses Hommes VS Femmes : \n",
      "\n",
      "    Gender       Total\n",
      "0  Female  167882.925\n",
      "1    Male  155083.824\n",
      "\n",
      " Les femmes depensent plus que les hommes\n"
     ]
    },
    {
     "name": "stderr",
     "output_type": "stream",
     "text": [
      "C:\\Users\\HP\\AppData\\Local\\Temp\\ipykernel_17564\\3166113354.py:2: FutureWarning: The default of observed=False is deprecated and will be changed to True in a future version of pandas. Pass observed=False to retain current behavior or observed=True to adopt the future default and silence this warning.\n",
      "  depenses = df.groupby('Gender')['Total'].sum()\n"
     ]
    }
   ],
   "source": [
    "# Est-ce que les femmes depensent plus que les hommes\n",
    "depenses = df.groupby('Gender')['Total'].sum()\n",
    "\n",
    "print(f'Dépenses Hommes VS Femmes : \\n\\n {depenses.reset_index()}')\n",
    "print('\\n Les femmes depensent plus que les hommes')"
   ]
  },
  {
   "cell_type": "code",
   "execution_count": 22,
   "id": "23dd773f",
   "metadata": {},
   "outputs": [
    {
     "name": "stdout",
     "output_type": "stream",
     "text": [
      "préférences produits par genre : \n",
      "\n",
      " Product line  Gender  Electronic accessories  Fashion accessories  \\\n",
      "0             Female              322.643125           317.056250   \n",
      "1               Male              316.691965           291.079207   \n",
      "\n",
      "Product line  Food and beverages  Health and beauty  Home and lifestyle  \\\n",
      "0                     368.565750         290.015414          380.213639   \n",
      "1                     273.499125         348.099460          294.136241   \n",
      "\n",
      "Product line  Sports and travel  \n",
      "0                    324.712739  \n",
      "1                    340.360327  \n"
     ]
    },
    {
     "name": "stderr",
     "output_type": "stream",
     "text": [
      "C:\\Users\\HP\\AppData\\Local\\Temp\\ipykernel_17564\\4112015443.py:3: FutureWarning: The default value of observed=False is deprecated and will change to observed=True in a future version of pandas. Specify observed=False to silence this warning and retain the current behavior\n",
      "  preferences = df.pivot_table(\n"
     ]
    }
   ],
   "source": [
    "# Y a-t-il des préférences produits par genre ?\n",
    "df['Product line'] = df['Product line'].astype('string')\n",
    "preferences = df.pivot_table(\n",
    "\tindex = 'Gender',\n",
    "\tvalues = 'Total',\n",
    "\tcolumns = 'Product line'\n",
    ")\n",
    "\n",
    "print(f\"préférences produits par genre : \\n\\n { preferences.reset_index()}\")"
   ]
  },
  {
   "cell_type": "markdown",
   "id": "d63e329c",
   "metadata": {},
   "source": [
    "### Différences entre les villes "
   ]
  },
  {
   "cell_type": "code",
   "execution_count": 23,
   "id": "409890d6",
   "metadata": {},
   "outputs": [
    {
     "name": "stdout",
     "output_type": "stream",
     "text": [
      "La ville qui génère le plus de chiffre d'affaires est : \n",
      "\n",
      " City\n",
      "Naypyitaw    110568.71\n",
      "Name: Total, dtype: float64 \n"
     ]
    },
    {
     "name": "stderr",
     "output_type": "stream",
     "text": [
      "C:\\Users\\HP\\AppData\\Local\\Temp\\ipykernel_17564\\1934397578.py:2: FutureWarning: The default of observed=False is deprecated and will be changed to True in a future version of pandas. Pass observed=False to retain current behavior or observed=True to adopt the future default and silence this warning.\n",
      "  City_CA = df.groupby('City')['Total'].sum().sort_values(ascending = False)\n"
     ]
    }
   ],
   "source": [
    "# Quelle ville génère le plus de chiffre d'affaires\n",
    "City_CA = df.groupby('City')['Total'].sum().sort_values(ascending = False)\n",
    "\n",
    "print(f\"La ville qui génère le plus de chiffre d'affaires est : \\n\\n {City_CA.head(1).round(2)} \")"
   ]
  },
  {
   "cell_type": "code",
   "execution_count": 24,
   "id": "a3d2bfd2",
   "metadata": {},
   "outputs": [
    {
     "name": "stdout",
     "output_type": "stream",
     "text": [
      "Nbre e clients par villes :  City\n",
      "Yangon       340\n",
      "Mandalay     332\n",
      "Naypyitaw    328\n",
      "Name: count, dtype: int64\n",
      "\n",
      "La ville qui a le plus grand nombre de clients est 'Yangon'\n"
     ]
    }
   ],
   "source": [
    "# Quelle ville a le plus grand nombre de clients ?\n",
    "nbr_Client_ville = df['City'].value_counts()\n",
    "print(\"Nbre e clients par villes : \", nbr_Client_ville)\n",
    "\n",
    "print(f\"\\nLa ville qui a le plus grand nombre de clients est 'Yangon'\")"
   ]
  },
  {
   "cell_type": "markdown",
   "id": "29b0c9b3",
   "metadata": {},
   "source": [
    "### Analyse par ligne de produits"
   ]
  },
  {
   "cell_type": "code",
   "execution_count": 25,
   "id": "711c2adc",
   "metadata": {},
   "outputs": [
    {
     "name": "stdout",
     "output_type": "stream",
     "text": [
      "Les segmants les plus rentables sont : \n",
      "\n",
      " Product line\n",
      "Food and beverages        56144.8440\n",
      "Sports and travel         55122.8265\n",
      "Electronic accessories    54337.5315\n",
      "Fashion accessories       54305.8950\n",
      "Home and lifestyle        53861.9130\n",
      "Health and beauty         49193.7390\n",
      "Name: Total, dtype: float64\n"
     ]
    }
   ],
   "source": [
    "# Les segments les plus rentables\n",
    "segments_rentables = df.groupby('Product line')['Total'].sum().sort_values(ascending = False)\n",
    "\n",
    "print(f\"Les segmants les plus rentables sont : \\n\\n {segments_rentables}\")"
   ]
  },
  {
   "cell_type": "code",
   "execution_count": 26,
   "id": "69a9903d",
   "metadata": {},
   "outputs": [
    {
     "name": "stdout",
     "output_type": "stream",
     "text": [
      "Le panier moyen par ligne de prosuit : \n",
      "\n",
      " Product line\n",
      "Home and lifestyle        336.636956\n",
      "Sports and travel         332.065220\n",
      "Health and beauty         323.643020\n",
      "Food and beverages        322.671517\n",
      "Electronic accessories    319.632538\n",
      "Fashion accessories       305.089298\n",
      "Name: Total, dtype: float64\n"
     ]
    }
   ],
   "source": [
    "# Le panier moyen par ligne de prosuit\n",
    "panier_moyen = df.groupby('Product line')['Total'].mean().sort_values(ascending = False)\n",
    "\n",
    "print(f\"Le panier moyen par ligne de prosuit : \\n\\n {panier_moyen}\")"
   ]
  },
  {
   "cell_type": "markdown",
   "id": "55c827e7",
   "metadata": {},
   "source": [
    "## 5. Analyse multivariée"
   ]
  },
  {
   "cell_type": "code",
   "execution_count": 27,
   "id": "fddcb3d5",
   "metadata": {},
   "outputs": [
    {
     "name": "stderr",
     "output_type": "stream",
     "text": [
      "C:\\Users\\HP\\AppData\\Local\\Temp\\ipykernel_17564\\84775265.py:3: FutureWarning: The default value of observed=False is deprecated and will change to observed=True in a future version of pandas. Specify observed=False to silence this warning and retain the current behavior\n",
      "  gender_x_product_mean_sales = df.pivot_table(\n"
     ]
    },
    {
     "name": "stdout",
     "output_type": "stream",
     "text": [
      "Comparaison moyen des ventes par ligne de produits et genre :\n",
      "\n"
     ]
    },
    {
     "data": {
      "text/html": [
       "<div>\n",
       "<style scoped>\n",
       "    .dataframe tbody tr th:only-of-type {\n",
       "        vertical-align: middle;\n",
       "    }\n",
       "\n",
       "    .dataframe tbody tr th {\n",
       "        vertical-align: top;\n",
       "    }\n",
       "\n",
       "    .dataframe thead th {\n",
       "        text-align: right;\n",
       "    }\n",
       "</style>\n",
       "<table border=\"1\" class=\"dataframe\">\n",
       "  <thead>\n",
       "    <tr style=\"text-align: right;\">\n",
       "      <th>Gender</th>\n",
       "      <th>Female</th>\n",
       "      <th>Male</th>\n",
       "    </tr>\n",
       "    <tr>\n",
       "      <th>Product line</th>\n",
       "      <th></th>\n",
       "      <th></th>\n",
       "    </tr>\n",
       "  </thead>\n",
       "  <tbody>\n",
       "    <tr>\n",
       "      <th>Electronic accessories</th>\n",
       "      <td>322.64</td>\n",
       "      <td>316.69</td>\n",
       "    </tr>\n",
       "    <tr>\n",
       "      <th>Fashion accessories</th>\n",
       "      <td>317.06</td>\n",
       "      <td>291.08</td>\n",
       "    </tr>\n",
       "    <tr>\n",
       "      <th>Food and beverages</th>\n",
       "      <td>368.57</td>\n",
       "      <td>273.50</td>\n",
       "    </tr>\n",
       "    <tr>\n",
       "      <th>Health and beauty</th>\n",
       "      <td>290.02</td>\n",
       "      <td>348.10</td>\n",
       "    </tr>\n",
       "    <tr>\n",
       "      <th>Home and lifestyle</th>\n",
       "      <td>380.21</td>\n",
       "      <td>294.14</td>\n",
       "    </tr>\n",
       "    <tr>\n",
       "      <th>Sports and travel</th>\n",
       "      <td>324.71</td>\n",
       "      <td>340.36</td>\n",
       "    </tr>\n",
       "  </tbody>\n",
       "</table>\n",
       "</div>"
      ],
      "text/plain": [
       "Gender                  Female    Male\n",
       "Product line                          \n",
       "Electronic accessories  322.64  316.69\n",
       "Fashion accessories     317.06  291.08\n",
       "Food and beverages      368.57  273.50\n",
       "Health and beauty       290.02  348.10\n",
       "Home and lifestyle      380.21  294.14\n",
       "Sports and travel       324.71  340.36"
      ]
     },
     "execution_count": 27,
     "metadata": {},
     "output_type": "execute_result"
    }
   ],
   "source": [
    "# Comparaison moyen des ventes par ligne de produits et genre\n",
    "\n",
    "gender_x_product_mean_sales = df.pivot_table(\n",
    "\tindex = \"Product line\",\n",
    "\tcolumns = \"Gender\",\n",
    "\tvalues = \"Total\",\n",
    "\taggfunc = \"mean\"\n",
    ")\n",
    "\n",
    "print(f\"Comparaison moyen des ventes par ligne de produits et genre :\\n\")\n",
    "\n",
    "gender_x_product_mean_sales.round(2)"
   ]
  },
  {
   "cell_type": "code",
   "execution_count": 28,
   "id": "ab833f23",
   "metadata": {},
   "outputs": [
    {
     "name": "stdout",
     "output_type": "stream",
     "text": [
      "Comparaison moyen des ventes par ville et heure de vente : \n",
      "\n"
     ]
    },
    {
     "name": "stderr",
     "output_type": "stream",
     "text": [
      "C:\\Users\\HP\\AppData\\Local\\Temp\\ipykernel_17564\\1110640415.py:2: FutureWarning: The default value of observed=False is deprecated and will change to observed=True in a future version of pandas. Specify observed=False to silence this warning and retain the current behavior\n",
      "  city_x_hour_mean_sales = df.pivot_table(\n"
     ]
    },
    {
     "data": {
      "text/html": [
       "<div>\n",
       "<style scoped>\n",
       "    .dataframe tbody tr th:only-of-type {\n",
       "        vertical-align: middle;\n",
       "    }\n",
       "\n",
       "    .dataframe tbody tr th {\n",
       "        vertical-align: top;\n",
       "    }\n",
       "\n",
       "    .dataframe thead th {\n",
       "        text-align: right;\n",
       "    }\n",
       "</style>\n",
       "<table border=\"1\" class=\"dataframe\">\n",
       "  <thead>\n",
       "    <tr style=\"text-align: right;\">\n",
       "      <th>Time</th>\n",
       "      <th>10</th>\n",
       "      <th>11</th>\n",
       "      <th>12</th>\n",
       "      <th>13</th>\n",
       "      <th>14</th>\n",
       "      <th>15</th>\n",
       "      <th>16</th>\n",
       "      <th>17</th>\n",
       "      <th>18</th>\n",
       "      <th>19</th>\n",
       "      <th>20</th>\n",
       "    </tr>\n",
       "    <tr>\n",
       "      <th>City</th>\n",
       "      <th></th>\n",
       "      <th></th>\n",
       "      <th></th>\n",
       "      <th></th>\n",
       "      <th></th>\n",
       "      <th></th>\n",
       "      <th></th>\n",
       "      <th></th>\n",
       "      <th></th>\n",
       "      <th></th>\n",
       "      <th></th>\n",
       "    </tr>\n",
       "  </thead>\n",
       "  <tbody>\n",
       "    <tr>\n",
       "      <th>Mandalay</th>\n",
       "      <td>340.99</td>\n",
       "      <td>317.63</td>\n",
       "      <td>339.02</td>\n",
       "      <td>296.64</td>\n",
       "      <td>389.82</td>\n",
       "      <td>320.04</td>\n",
       "      <td>242.56</td>\n",
       "      <td>392.05</td>\n",
       "      <td>273.01</td>\n",
       "      <td>325.25</td>\n",
       "      <td>284.00</td>\n",
       "    </tr>\n",
       "    <tr>\n",
       "      <th>Naypyitaw</th>\n",
       "      <td>306.68</td>\n",
       "      <td>388.44</td>\n",
       "      <td>261.46</td>\n",
       "      <td>382.56</td>\n",
       "      <td>367.19</td>\n",
       "      <td>292.87</td>\n",
       "      <td>365.47</td>\n",
       "      <td>280.02</td>\n",
       "      <td>361.12</td>\n",
       "      <td>364.08</td>\n",
       "      <td>358.85</td>\n",
       "    </tr>\n",
       "    <tr>\n",
       "      <th>Yangon</th>\n",
       "      <td>294.96</td>\n",
       "      <td>324.28</td>\n",
       "      <td>287.43</td>\n",
       "      <td>336.90</td>\n",
       "      <td>354.10</td>\n",
       "      <td>304.69</td>\n",
       "      <td>339.68</td>\n",
       "      <td>334.95</td>\n",
       "      <td>225.67</td>\n",
       "      <td>382.60</td>\n",
       "      <td>268.02</td>\n",
       "    </tr>\n",
       "  </tbody>\n",
       "</table>\n",
       "</div>"
      ],
      "text/plain": [
       "Time           10      11      12      13      14      15      16      17  \\\n",
       "City                                                                        \n",
       "Mandalay   340.99  317.63  339.02  296.64  389.82  320.04  242.56  392.05   \n",
       "Naypyitaw  306.68  388.44  261.46  382.56  367.19  292.87  365.47  280.02   \n",
       "Yangon     294.96  324.28  287.43  336.90  354.10  304.69  339.68  334.95   \n",
       "\n",
       "Time           18      19      20  \n",
       "City                               \n",
       "Mandalay   273.01  325.25  284.00  \n",
       "Naypyitaw  361.12  364.08  358.85  \n",
       "Yangon     225.67  382.60  268.02  "
      ]
     },
     "execution_count": 28,
     "metadata": {},
     "output_type": "execute_result"
    }
   ],
   "source": [
    "# Comparaison moyen des ventes par ville et heure de vente\n",
    "city_x_hour_mean_sales = df.pivot_table(\n",
    "\tindex = \"City\",\n",
    "\tcolumns = \"Time\",\n",
    "\tvalues = \"Total\",\n",
    "\taggfunc = \"mean\"\n",
    ")\n",
    "\n",
    "print(\"Comparaison moyen des ventes par ville et heure de vente : \\n\")\n",
    "city_x_hour_mean_sales.round(2)"
   ]
  },
  {
   "cell_type": "markdown",
   "id": "40472cbe",
   "metadata": {},
   "source": [
    "## 6. Visualisations"
   ]
  },
  {
   "cell_type": "markdown",
   "id": "8e18ea89",
   "metadata": {},
   "source": [
    "### Barplots des produits vendus"
   ]
  },
  {
   "cell_type": "code",
   "execution_count": 29,
   "id": "eb3f0ddb",
   "metadata": {},
   "outputs": [
    {
     "data": {
      "image/png": "[encoded data removed]",
      "text/plain": [
       "<Figure size 1200x500 with 1 Axes>"
      ]
     },
     "metadata": {},
     "output_type": "display_data"
    }
   ],
   "source": [
    "# Barplot des quantites de produits vendus\n",
    "quantity_by_productline = df.groupby('Product line')['Quantity'].count().reset_index()\n",
    "\n",
    "plt.figure(figsize=(12,5))\n",
    "\n",
    "plt.bar(quantity_by_productline['Product line'], quantity_by_productline['Quantity'], color='skyblue')\n",
    "\n",
    "plt.title(\"quantites de produits vendus par ligne de produits\")\n",
    "plt.xlabel(\"Lignes de produits\")\n",
    "plt.ylabel('Quantites vendus')\n",
    "\n",
    "plt.tight_layout()\n",
    "plt.xticks(rotation = 10)\n",
    "plt.grid(axis='y', linestyle='--')\n",
    "\n",
    "plt.show()"
   ]
  },
  {
   "cell_type": "markdown",
   "id": "94270f10",
   "metadata": {},
   "source": [
    "### Visualisation du traffic client"
   ]
  },
  {
   "cell_type": "code",
   "execution_count": 30,
   "id": "e5cd850f",
   "metadata": {},
   "outputs": [
    {
     "data": {
      "image/png": "[encoded data removed]",
      "text/plain": [
       "<Figure size 1200x500 with 1 Axes>"
      ]
     },
     "metadata": {},
     "output_type": "display_data"
    }
   ],
   "source": [
    "# Histogramme des heures les plus actives\n",
    "plt.figure(figsize=(12,5))\n",
    "\n",
    "hour = heures_affluence.reset_index()\n",
    "\n",
    "plt.bar(hour['Time'], hour['count'])\n",
    "\n",
    "plt.title(\"VIsualisation du traffic client\")\n",
    "plt.xlabel('Heures')\n",
    "plt.ylabel('Nombre de factures')\n",
    "\n",
    "plt.xticks(hour['Time'], hour['Time'])\n",
    "\n",
    "plt.grid(axis='y', linestyle = '--')\n",
    "\n",
    "plt.show()"
   ]
  },
  {
   "cell_type": "markdown",
   "id": "a5248cee",
   "metadata": {},
   "source": [
    "### Courbes d’évolution du chiffre d'affaires"
   ]
  },
  {
   "cell_type": "code",
   "execution_count": 31,
   "id": "adce3c18",
   "metadata": {},
   "outputs": [
    {
     "data": {
      "image/png": "[encoded data removed]",
      "text/plain": [
       "<Figure size 1200x600 with 1 Axes>"
      ]
     },
     "metadata": {},
     "output_type": "display_data"
    }
   ],
   "source": [
    "# Evolution du chiffre d'affaire journalier\n",
    "CA = df.groupby('Date')['Total'].sum().reset_index()\n",
    "\n",
    "plt.figure(figsize=(12, 6))\n",
    "\n",
    "plt.plot(CA['Date'], CA['Total'])\n",
    "\n",
    "plt.title('Evolution du chiffre d\\'affaire journalier')\n",
    "plt.xlabel('Jours')\n",
    "plt.ylabel('Chiffre d\\'affaire')\n",
    "\n",
    "plt.xticks( rotation = 90)\n",
    "\n",
    "plt.show()"
   ]
  },
  {
   "cell_type": "code",
   "execution_count": 32,
   "id": "59378a04",
   "metadata": {},
   "outputs": [
    {
     "data": {
      "image/png": "[encoded data removed]",
      "text/plain": [
       "<Figure size 1200x600 with 1 Axes>"
      ]
     },
     "metadata": {},
     "output_type": "display_data"
    }
   ],
   "source": [
    "# Tendances d'evolution du chiffre d'affaire sur un mois\n",
    "CA = df.groupby('day')['Total'].sum().reset_index()\n",
    "\n",
    "plt.figure(figsize=(12, 6))\n",
    "\n",
    "plt.plot(CA['day'], CA['Total'])\n",
    "\n",
    "plt.title('Tendance d\\'evolution du chiffre d\\'affaire sur un mois')\n",
    "plt.xlabel('Jours')\n",
    "plt.ylabel('Chiffre d\\'affaire')\n",
    "\n",
    "plt.xticks( rotation = 90)\n",
    "\n",
    "plt.show()"
   ]
  },
  {
   "cell_type": "code",
   "execution_count": 33,
   "id": "bf08b112",
   "metadata": {},
   "outputs": [
    {
     "data": {
      "image/png": "[encoded data removed]",
      "text/plain": [
       "<Figure size 1200x600 with 1 Axes>"
      ]
     },
     "metadata": {},
     "output_type": "display_data"
    }
   ],
   "source": [
    "# Tendances d'evolution du chiffre d'affaire sur le trimestre\n",
    "CA = df.groupby('month')['Total'].sum().reset_index()\n",
    "\n",
    "plt.figure(figsize=(12, 6))\n",
    "\n",
    "plt.plot(CA['month'], CA['Total'])\n",
    "\n",
    "plt.title('Tendance d\\'evolution du chiffre d\\'affaire sur le trimestre')\n",
    "plt.xlabel('Jours')\n",
    "plt.ylabel('Chiffre d\\'affaire')\n",
    "\n",
    "plt.xticks( rotation = 90)\n",
    "\n",
    "plt.show()"
   ]
  },
  {
   "cell_type": "markdown",
   "id": "e2cfe521",
   "metadata": {},
   "source": [
    "### Camembert des modes de paiement"
   ]
  },
  {
   "cell_type": "code",
   "execution_count": 52,
   "id": "b3b1388f",
   "metadata": {},
   "outputs": [
    {
     "data": {
      "text/html": [
       "<div>\n",
       "<style scoped>\n",
       "    .dataframe tbody tr th:only-of-type {\n",
       "        vertical-align: middle;\n",
       "    }\n",
       "\n",
       "    .dataframe tbody tr th {\n",
       "        vertical-align: top;\n",
       "    }\n",
       "\n",
       "    .dataframe thead th {\n",
       "        text-align: right;\n",
       "    }\n",
       "</style>\n",
       "<table border=\"1\" class=\"dataframe\">\n",
       "  <thead>\n",
       "    <tr style=\"text-align: right;\">\n",
       "      <th></th>\n",
       "      <th>Payment</th>\n",
       "      <th>proportion</th>\n",
       "    </tr>\n",
       "  </thead>\n",
       "  <tbody>\n",
       "    <tr>\n",
       "      <th>0</th>\n",
       "      <td>Ewallet</td>\n",
       "      <td>0.345</td>\n",
       "    </tr>\n",
       "    <tr>\n",
       "      <th>1</th>\n",
       "      <td>Cash</td>\n",
       "      <td>0.344</td>\n",
       "    </tr>\n",
       "    <tr>\n",
       "      <th>2</th>\n",
       "      <td>Credit card</td>\n",
       "      <td>0.311</td>\n",
       "    </tr>\n",
       "  </tbody>\n",
       "</table>\n",
       "</div>"
      ],
      "text/plain": [
       "       Payment  proportion\n",
       "0      Ewallet       0.345\n",
       "1         Cash       0.344\n",
       "2  Credit card       0.311"
      ]
     },
     "execution_count": 52,
     "metadata": {},
     "output_type": "execute_result"
    }
   ],
   "source": [
    "payment = df['Payment'].value_counts(normalize = True).reset_index()\n",
    "payment"
   ]
  },
  {
   "cell_type": "code",
   "execution_count": 79,
   "id": "cc3f9a18",
   "metadata": {},
   "outputs": [
    {
     "data": {
      "image/png": "[encoded data removed]",
      "text/plain": [
       "<Figure size 1200x600 with 1 Axes>"
      ]
     },
     "metadata": {},
     "output_type": "display_data"
    }
   ],
   "source": [
    "plt.figure(figsize=(12, 6))\n",
    "\n",
    "plt.pie(payment['proportion'], labels=payment['Payment'], autopct='%1.1f%%')\n",
    "\n",
    "plt.title('Repartion des modes de paiement')\n",
    "\n",
    "plt.axis('equal')\n",
    "\n",
    "plt.show()"
   ]
  }
 ],
 "metadata": {
  "kernelspec": {
   "display_name": "Python 3",
   "language": "python",
   "name": "python3"
  },
  "language_info": {
   "codemirror_mode": {
    "name": "ipython",
    "version": 3
   },
   "file_extension": ".py",
   "mimetype": "text/x-python",
   "name": "python",
   "nbconvert_exporter": "python",
   "pygments_lexer": "ipython3",
   "version": "3.10.0"
  }
 },
 "nbformat": 4,
 "nbformat_minor": 5
}
